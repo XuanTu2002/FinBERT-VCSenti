{
  "nbformat": 4,
  "nbformat_minor": 0,
  "metadata": {
    "colab": {
      "provenance": [],
      "gpuType": "T4",
      "authorship_tag": "ABX9TyPpumy0sWaqVBfRxBVk63rG",
      "include_colab_link": true
    },
    "kernelspec": {
      "name": "python3",
      "display_name": "Python 3"
    },
    "language_info": {
      "name": "python"
    },
    "accelerator": "GPU"
  },
  "cells": [
    {
      "cell_type": "markdown",
      "metadata": {
        "id": "view-in-github",
        "colab_type": "text"
      },
      "source": [
        "<a href=\"https://colab.research.google.com/github/XuanTu2002/FinBERT-VCSenti/blob/main/FinBERT_VCSenti.ipynb\" target=\"_parent\"><img src=\"https://colab.research.google.com/assets/colab-badge.svg\" alt=\"Open In Colab\"/></a>"
      ]
    },
    {
      "cell_type": "code",
      "source": [
        "# Bước 1: Cài đặt các thư viện cần thiết\n",
        "!pip install transformers datasets evaluate accelerate -q\n",
        "\n",
        "import pandas as pd\n",
        "import numpy as np\n",
        "import torch\n",
        "import evaluate\n",
        "from datasets import Dataset\n",
        "from sklearn.model_selection import train_test_split\n",
        "from transformers import (\n",
        "    AutoTokenizer,\n",
        "    AutoModelForSequenceClassification,\n",
        "    TrainingArguments,\n",
        "    Trainer,\n",
        "    DataCollatorWithPadding,\n",
        "    pipeline\n",
        ")"
      ],
      "metadata": {
        "id": "G7ViGNpueoUz"
      },
      "execution_count": null,
      "outputs": []
    },
    {
      "cell_type": "code",
      "source": [
        "# Bước 2: Tải và chuẩn bị dữ liệu\n",
        "# Tải dữ liệu từ Hugging Face Hub\n",
        "try:\n",
        "    from datasets import load_dataset\n",
        "    full_dataset = load_dataset(\"atrost/financial_phrasebank\")\n",
        "    df = full_dataset['train'].to_pandas()\n",
        "except Exception as e:\n",
        "    print(f\"Lỗi khi tải dữ liệu, vui lòng kiểm tra lại kết nối hoặc tên dataset. Lỗi: {e}\")\n",
        "\n",
        "# Tạo các ánh xạ giữa id và tên nhãn để dễ hiểu hơn\n",
        "# 0: negative, 1: neutral, 2: positive\n",
        "id2label = {0: \"negative\", 1: \"neutral\", 2: \"positive\"}\n",
        "label2id = {\"negative\": 0, \"neutral\": 1, \"positive\": 2}\n",
        "\n",
        "# Chuyển đổi nhãn số thành chuỗi để dễ đọc\n",
        "df['label_name'] = df['label'].map(id2label)\n",
        "\n",
        "# Tách dữ liệu thành tập huấn luyện và tập kiểm thử\n",
        "train_df, eval_df = train_test_split(df, test_size=0.2, random_state=42, stratify=df['label'])\n",
        "\n",
        "# Chuyển đổi pandas DataFrame trở lại thành Dataset object của Hugging Face\n",
        "train_dataset = Dataset.from_pandas(train_df)\n",
        "eval_dataset = Dataset.from_pandas(eval_df)\n",
        "\n",
        "print(\"Ví dụ dữ liệu huấn luyện:\")\n",
        "print(train_dataset[0])"
      ],
      "metadata": {
        "id": "Opf62HjLfagN"
      },
      "execution_count": null,
      "outputs": []
    },
    {
      "cell_type": "code",
      "source": [
        "# Bước 3: Tải Tokenizer và Model\n",
        "checkpoint = \"bert-base-uncased\"\n",
        "tokenizer = AutoTokenizer.from_pretrained(checkpoint)\n",
        "model = AutoModelForSequenceClassification.from_pretrained(\n",
        "    checkpoint,\n",
        "    num_labels=3,\n",
        "    id2label=id2label,\n",
        "    label2id=label2id\n",
        ")"
      ],
      "metadata": {
        "id": "8oHoTuZWfpbu"
      },
      "execution_count": null,
      "outputs": []
    },
    {
      "cell_type": "code",
      "source": [
        "# Bước 4: Tokenize dữ liệu\n",
        "def tokenize_function(examples):\n",
        "    return tokenizer(examples[\"sentence\"], truncation=True, padding=False)\n",
        "\n",
        "tokenized_train_dataset = train_dataset.map(tokenize_function, batched=True)\n",
        "tokenized_eval_dataset = eval_dataset.map(tokenize_function, batched=True)\n",
        "\n",
        "# Dynamic padding\n",
        "data_collator = DataCollatorWithPadding(tokenizer=tokenizer)"
      ],
      "metadata": {
        "id": "koWphyi2fsZL"
      },
      "execution_count": null,
      "outputs": []
    },
    {
      "cell_type": "code",
      "source": [
        "# Bước 5: Thiết lập và Huấn luyện\n",
        "# Định nghĩa hàm tính toán các chỉ số đánh giá\n",
        "accuracy_metric = evaluate.load(\"accuracy\")\n",
        "f1_metric = evaluate.load(\"f1\")\n",
        "\n",
        "def compute_metrics(eval_pred):\n",
        "    predictions, labels = eval_pred\n",
        "    predictions = np.argmax(predictions, axis=1) # Lấy nhãn có xác suất cao nhất\n",
        "\n",
        "    accuracy = accuracy_metric.compute(predictions=predictions, references=labels)\n",
        "    f1 = f1_metric.compute(predictions=predictions, references=labels, average=\"weighted\") # \"weighted\" F1-score is good for imbalanced datasets\n",
        "\n",
        "    return {\n",
        "        \"accuracy\": accuracy[\"accuracy\"],\n",
        "        \"f1\": f1[\"f1\"],\n",
        "    }\n",
        "\n",
        "# Thiết lập các tham số huấn luyện (Training Arguments)\n",
        "# Các tham số này được lấy cảm hứng từ paper FinBERT\n",
        "# Lưu ý: batch_size=16 là con số an toàn cho Colab, paper gốc dùng batch_size=64\n",
        "training_args = TrainingArguments(\n",
        "    output_dir=\"finbert-sentiment-analysis\",\n",
        "    learning_rate=2e-5,\n",
        "    per_device_train_batch_size=16,\n",
        "    per_device_eval_batch_size=16,\n",
        "    num_train_epochs=4,\n",
        "    weight_decay=0.01,\n",
        "    eval_strategy=\"epoch\",\n",
        "    save_strategy=\"epoch\",\n",
        "    load_best_model_at_end=True,\n",
        "    push_to_hub=False,\n",
        "    report_to=\"none\"\n",
        ")\n",
        "\n",
        "# Khởi tạo Trainer\n",
        "trainer = Trainer(\n",
        "    model=model,\n",
        "    args=training_args,\n",
        "    train_dataset=tokenized_train_dataset,\n",
        "    eval_dataset=tokenized_eval_dataset,\n",
        "    tokenizer=tokenizer,\n",
        "    data_collator=data_collator,\n",
        "    compute_metrics=compute_metrics,\n",
        ")\n",
        "\n",
        "# Bắt đầu huấn luyện\n",
        "print(\"Bắt đầu quá trình fine-tuning...\")\n",
        "trainer.train()\n",
        "print(\"Quá trình huấn luyện đã hoàn tất!\")"
      ],
      "metadata": {
        "id": "E0DlXgCGfwqE"
      },
      "execution_count": null,
      "outputs": []
    },
    {
      "cell_type": "code",
      "source": [
        "# Bước 6: Sử dụng mô hình đã huấn luyện\n",
        "print(\"\\nSử dụng pipeline để dự đoán câu mới:\")\n",
        "# Lấy model tốt nhất đã được lưu\n",
        "best_model_checkpoint = trainer.state.best_model_checkpoint\n",
        "pipe = pipeline(\"text-classification\", model=best_model_checkpoint, device=0 if torch.cuda.is_available() else -1)\n",
        "\n",
        "# Ví dụ dự đoán\n",
        "new_sentences = [\n",
        "    \"The company announced a record-breaking quarter with huge profits.\",\n",
        "    \"Despite the merger, the stock price has fallen.\",\n",
        "    \"The report shows that the market is stable.\"\n",
        "]\n",
        "\n",
        "results = pipe(new_sentences)\n",
        "for sentence, result in zip(new_sentences, results):\n",
        "    print(f\"'{sentence}' -> Dự đoán: {result['label']} (Điểm: {result['score']:.4f})\")\n"
      ],
      "metadata": {
        "id": "iYbnzkeLf11J"
      },
      "execution_count": null,
      "outputs": []
    }
  ]
}